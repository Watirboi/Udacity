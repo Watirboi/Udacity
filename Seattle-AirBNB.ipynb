{
 "cells": [
  {
   "cell_type": "markdown",
   "metadata": {},
   "source": [
    "# Seattle AirBNB Data Analysis"
   ]
  },
  {
   "cell_type": "markdown",
   "metadata": {},
   "source": [
    "## Importing the necessary libraries"
   ]
  },
  {
   "cell_type": "code",
   "execution_count": null,
   "metadata": {},
   "outputs": [],
   "source": [
    "import numpy as np\n",
    "import pandas as pd\n",
    "import matplotlib.pyplot as plt\n",
    "from sklearn.linear_model import LinearRegression\n",
    "from sklearn.model_selection import train_test_split\n",
    "from sklearn.metrics import r2_score, mean_squared_error\n",
    "import seaborn as sns\n",
    "\n",
    "\n",
    "%matplotlib inline\n",
    "\n",
    "#pd.set_option('display.float_format', lambda x: '%.0f' % x)"
   ]
  },
  {
   "cell_type": "markdown",
   "metadata": {},
   "source": [
    "### Importing the Dataset"
   ]
  },
  {
   "cell_type": "code",
   "execution_count": null,
   "metadata": {},
   "outputs": [],
   "source": [
    "#listings = pd.read_csv(\"listings.csv\", parse_dates=[\"host_since\", \"first_review\", \"last_review\"])\n",
    "listings = pd.read_csv(\"listings.csv\")"
   ]
  },
  {
   "cell_type": "markdown",
   "metadata": {},
   "source": [
    "## Exploring the Dataset"
   ]
  },
  {
   "cell_type": "code",
   "execution_count": null,
   "metadata": {},
   "outputs": [],
   "source": [
    "listings.head(2)"
   ]
  },
  {
   "cell_type": "code",
   "execution_count": null,
   "metadata": {},
   "outputs": [],
   "source": [
    "# Continous Variables\n",
    "listings.describe()"
   ]
  },
  {
   "cell_type": "code",
   "execution_count": null,
   "metadata": {},
   "outputs": [],
   "source": [
    "listings.hist();"
   ]
  },
  {
   "cell_type": "code",
   "execution_count": null,
   "metadata": {},
   "outputs": [],
   "source": [
    "#sns.heatmap(listings.corr(), annot=True, fmt='.2f');"
   ]
  },
  {
   "cell_type": "code",
   "execution_count": null,
   "metadata": {},
   "outputs": [],
   "source": [
    "X = listings[[]]\n",
    "y = listings['price']"
   ]
  },
  {
   "cell_type": "code",
   "execution_count": null,
   "metadata": {},
   "outputs": [],
   "source": [
    "# Show the column types\n",
    "listings.info()"
   ]
  },
  {
   "cell_type": "markdown",
   "metadata": {},
   "source": [
    "## Basic Data Cleaning"
   ]
  },
  {
   "cell_type": "markdown",
   "metadata": {},
   "source": [
    "Let us check for unique values in every column"
   ]
  },
  {
   "cell_type": "code",
   "execution_count": null,
   "metadata": {},
   "outputs": [],
   "source": [
    "# 5.3 Identify Columns that Contain a Single Value\n",
    "# Get number of unique values in each column\n",
    "listings.nunique().sort_values()"
   ]
  },
  {
   "cell_type": "code",
   "execution_count": null,
   "metadata": {},
   "outputs": [],
   "source": [
    "# 5.4 Delete Columns That Contain a Single Value\n",
    "# Remove these because of zero-variance predictors\n",
    "print(listings.shape)\n",
    "# Get number of unique values in each column\n",
    "counts = listings.nunique()\n",
    "# record columns to delete\n",
    "to_del = [i for i,v in enumerate(counts) if v == 1 ]\n",
    "print(to_del)\n",
    "# drop unless columns\n",
    "listings.drop(listings.columns[to_del], axis=1, inplace=True)\n",
    "print(listings.shape)"
   ]
  },
  {
   "cell_type": "code",
   "execution_count": null,
   "metadata": {},
   "outputs": [],
   "source": [
    "# 5.5 Consider Columns that Have Very Few Values\n",
    "print(listings.shape)\n",
    "# get number of unique values for each column\n",
    "counts = listings.nunique()\n",
    "# record columns to delete\n",
    "to_del = [i for i,v in enumerate(counts) if (float(v)/listings.shape[0]*100) < 1]\n",
    "print(to_del)\n",
    "# drop unless columns\n",
    "listings.drop(listings.columns[to_del], axis=1, inplace=True)\n",
    "print(listings.shape)"
   ]
  },
  {
   "cell_type": "code",
   "execution_count": null,
   "metadata": {},
   "outputs": [],
   "source": [
    "most_missing_cols = set(listings.columns[listings.isnull().mean() > 0.75])\n",
    "most_missing_cols"
   ]
  },
  {
   "cell_type": "code",
   "execution_count": null,
   "metadata": {},
   "outputs": [],
   "source": [
    "# Drop columns with more than 75% of rows missing\n",
    "print(listings.shape)\n",
    "listings.drop(most_missing_cols, axis=1, inplace=True);\n",
    "print(listings.shape);"
   ]
  },
  {
   "cell_type": "code",
   "execution_count": null,
   "metadata": {},
   "outputs": [],
   "source": [
    "# 5.5 Summarize the percentage of unique values for each columnn using numpy\n",
    "#from numpy import unique\n",
    "#from numpy import loadtxt\n",
    "# load the dataset\n",
    "#data = loadtxt(\"listings.csv\", delimiter=\",\")\n",
    "# summarize the number of unique values in each column\n",
    "# for i in range(listings.shape[1]):\n",
    "#    num = len(unique(data[:, i]))\n",
    "#    percentage = float(num) / listings.shape[0] * 100\n",
    "#    if percentage < 1:\n",
    "#        print('%d, %d, %.1f%%' % (i, num, percentage))"
   ]
  },
  {
   "cell_type": "code",
   "execution_count": null,
   "metadata": {},
   "outputs": [],
   "source": [
    "# 5.6 Remove Columns That Have A Low Variance\n",
    "#counts = listings.nunique().sort_values(ascending=False)\n",
    "# record columns to delete\n",
    "#to_del = [i for i,v in enumerate(counts) if (float(v)/listings.shape[0]*100) < 1]\n",
    "#to_del"
   ]
  },
  {
   "cell_type": "code",
   "execution_count": null,
   "metadata": {},
   "outputs": [],
   "source": [
    "# Remove the columns with urls\n",
    "print(listings.shape)\n",
    "# record columns to delete\n",
    "to_del = listings.filter(like='_url').columns\n",
    "print(to_del)\n",
    "# drop unless columns\n",
    "listings.drop(to_del, axis=1, inplace=True)\n",
    "print(listings.shape)   "
   ]
  },
  {
   "cell_type": "code",
   "execution_count": null,
   "metadata": {},
   "outputs": [],
   "source": [
    "# 5.7 Identify Rows That Contain Duplicate Data\n",
    "# print(listings.shape)\n",
    "# calculate duplicates\n",
    "dups = listings.duplicated()\n",
    "# report if there are duplicates\n",
    "print(dups.any())\n",
    "# list all duplicate rows\n",
    "print(listings[dups])"
   ]
  },
  {
   "cell_type": "code",
   "execution_count": null,
   "metadata": {},
   "outputs": [],
   "source": [
    "# 5.8 Delete Rows That Contain Duplicate Data\n",
    "# print(listings.shape)\n",
    "# calculate duplicates\n",
    "dups = listings.duplicated()\n",
    "# report if there are duplicates\n",
    "print(dups.any())\n",
    "# list all duplicate rows\n",
    "print(listings[dups])\n",
    "# delete duplicate rows\n",
    "listings.drop_duplicates(inplace=True)\n",
    "print(listings.shape)"
   ]
  },
  {
   "cell_type": "code",
   "execution_count": null,
   "metadata": {},
   "outputs": [],
   "source": [
    "# The price columns are showing as objects or strings\n",
    "\n",
    "# Remove $ and convert 'price' to float\n",
    "#listings_price_cols = listings.filter(like='price').columns\n",
    "listings[\"price\"] = listings[\"price\"].str.replace('$', '', regex=True)\n",
    "listings[\"price\"] = pd.to_numeric(listings[\"price\"], errors='coerce');\n",
    "\n",
    "listings[\"weekly_price\"] = listings[\"weekly_price\"].str.replace('$', '', regex=True)\n",
    "listings[\"weekly_price\"] = pd.to_numeric(listings[\"weekly_price\"], errors='coerce');\n",
    "\n",
    "listings[\"monthly_price\"] = listings[\"monthly_price\"].str.replace('$', '', regex=True)\n",
    "listings[\"monthly_price\"] = pd.to_numeric(listings[\"monthly_price\"], errors='coerce');\n",
    "\n",
    "\n",
    "#listings_deposit_fee_cols = listings[[\"security_deposit\",\"cleaning_fee\"]]\n",
    "listings[\"security_deposit\"] = listings[\"security_deposit\"].str.replace('$', '', regex=True)\n",
    "listings[\"security_deposit\"] = pd.to_numeric(listings[\"security_deposit\"], errors='coerce');\n",
    "\n",
    "listings[\"cleaning_fee\"] = listings[\"cleaning_fee\"].str.replace('$', '', regex=True)\n",
    "listings[\"cleaning_fee\"] = pd.to_numeric(listings[\"cleaning_fee\"], errors='coerce');\n",
    "\n",
    "listings[\"extra_people\"] = listings[\"extra_people\"].str.replace('$', '', regex=True)\n",
    "listings[\"extra_people\"] = pd.to_numeric(listings[\"extra_people\"], errors='coerce');\n",
    "\n",
    "#listings.filter(like='price').columns"
   ]
  },
  {
   "cell_type": "markdown",
   "metadata": {},
   "source": [
    "## Identify Row/Cols with Missing Data"
   ]
  },
  {
   "cell_type": "code",
   "execution_count": null,
   "metadata": {},
   "outputs": [],
   "source": [
    "# List columns without nulls\n",
    "set_cols_no_null = set(listings.columns[listings.isnull().sum() == 0])\n",
    "set_cols_no_null"
   ]
  },
  {
   "cell_type": "code",
   "execution_count": null,
   "metadata": {},
   "outputs": [],
   "source": [
    "# Columns without nulls\n",
    "len(set_cols_no_null)"
   ]
  },
  {
   "cell_type": "code",
   "execution_count": null,
   "metadata": {},
   "outputs": [],
   "source": [
    "# List columns with NaN values or nulls\n",
    "list_cols_with_nulls = listings.columns[listings.isnull().sum() != 0].tolist()\n",
    "list_cols_with_nulls"
   ]
  },
  {
   "cell_type": "code",
   "execution_count": null,
   "metadata": {},
   "outputs": [],
   "source": [
    "# Columns with nulls\n",
    "len(list_cols_with_nulls)"
   ]
  },
  {
   "cell_type": "markdown",
   "metadata": {},
   "source": [
    "## Fill in Missing Data"
   ]
  },
  {
   "cell_type": "code",
   "execution_count": null,
   "metadata": {},
   "outputs": [],
   "source": [
    "#get the list of all integer columns\n",
    "int_cols = list(listings.select_dtypes('int64').columns)\n",
    "print(f'Int Cols: , {int_cols}')\n",
    "#fillna(df.dtypes.replace({'float64': 0.0, 'O': 'NULL'}), inplace=True)\n",
    "\n",
    "#get the list of all float columns\n",
    "float_cols = list(listings.select_dtypes('float64').columns)\n",
    "print(f'Float Cols: , {float_cols}')\n",
    "\n",
    "#get the list of all object columns\n",
    "object_cols = list(listings.select_dtypes('object').columns)\n",
    "print(f'object_cols: , {object_cols}')\n",
    "\n",
    "#get the list of all datetime columns\n",
    "datetime_cols = list(listings.select_dtypes('datetime64').columns)\n",
    "print(f'Datetime64 Cols: , {datetime_cols}')\n",
    "\n",
    "#looping through if each column to fillna\n",
    "for i in int_cols:\n",
    "    listings[i].fillna(0,inplace=True)\n",
    "\n",
    "for f in float_cols:\n",
    "    listings[f].fillna(0,inplace=True)\n",
    "\n",
    "for o in object_cols:\n",
    "    listings[o].fillna(\"NULL\",inplace=True)\n",
    "    \n",
    "#for t in datetime_cols:\n",
    "#    listings[t].set_index('timestamp').resample('S').ffill().reset_index()"
   ]
  },
  {
   "cell_type": "code",
   "execution_count": null,
   "metadata": {},
   "outputs": [],
   "source": [
    "#get the list of all datetime columns\n",
    "datetime_cols = list(listings.select_dtypes('datetime64').columns)\n",
    "print(f'Datetime64 Cols: , {datetime_cols}')\n",
    "\n",
    "for t in datetime_cols:\n",
    "    listings[t].ffill(inplace=True)\n",
    "    #print(listings[t])\n"
   ]
  },
  {
   "cell_type": "code",
   "execution_count": null,
   "metadata": {},
   "outputs": [],
   "source": [
    "listings.hist(figsize=(20,8), grid=False, layout=(3,8));"
   ]
  },
  {
   "cell_type": "code",
   "execution_count": null,
   "metadata": {},
   "outputs": [],
   "source": [
    "plt.figure(figsize = (20,5))\n",
    "sns.heatmap(listings.corr(), annot=True, fmt='.2f', linewidths=.5);\n",
    "#listings.corr()"
   ]
  },
  {
   "cell_type": "code",
   "execution_count": null,
   "metadata": {},
   "outputs": [],
   "source": [
    "X = listings[['cleaning_fee', 'security_deposit', 'extra_people', 'maximum_nights']]\n",
    "y = listings['price']\n",
    "\n",
    "X_train, X_test, y_train, y_test = train_test_split(X, y, test_size=.3, random_state=42)\n",
    "\n",
    "# Four Steps\n",
    "# instantiate your model\n",
    "# fit model to training data\n",
    "# predict on test data\n",
    "# score your model on the test\n",
    "\n",
    "lm_model = LinearRegression(normalize=True)\n"
   ]
  },
  {
   "cell_type": "code",
   "execution_count": null,
   "metadata": {},
   "outputs": [],
   "source": [
    "# fit model to training data\n",
    "lm_model.fit(X_train, y_train)"
   ]
  },
  {
   "cell_type": "code",
   "execution_count": null,
   "metadata": {},
   "outputs": [],
   "source": [
    "# predict on test data\n",
    "y_pred = lm_model.predict(X_test)"
   ]
  },
  {
   "cell_type": "code",
   "execution_count": null,
   "metadata": {},
   "outputs": [],
   "source": [
    "# score your model on the test\n",
    "print(r2_score(y_test, y_pred))"
   ]
  },
  {
   "cell_type": "markdown",
   "metadata": {},
   "source": [
    "## Encoding the Categorical Data"
   ]
  },
  {
   "cell_type": "code",
   "execution_count": null,
   "metadata": {},
   "outputs": [],
   "source": [
    "obj_cols = listings.select_dtypes(include=['object'])\n",
    "#obj_cols.cat.codes\n",
    "obj_cols.columns\n",
    "obj_cols.head(2)\n",
    "#enc = OneHotEncoder(handle_unknown='ignore')\n",
    "#for cols in obj_cols:\n",
    "#    print(obj_cols)"
   ]
  },
  {
   "cell_type": "code",
   "execution_count": null,
   "metadata": {},
   "outputs": [],
   "source": []
  },
  {
   "cell_type": "markdown",
   "metadata": {},
   "source": [
    "## Visualize the Data"
   ]
  },
  {
   "cell_type": "code",
   "execution_count": null,
   "metadata": {},
   "outputs": [],
   "source": [
    "host_neighbourhood_vals = listings.host_neighbourhood.value_counts()\n",
    "(host_neighbourhood_vals[:10]/listings.shape[0]).plot(kind='bar')\n",
    "plt.title(\"Top 10 Host Neighborhooods by Percentage of Listings\");"
   ]
  },
  {
   "cell_type": "code",
   "execution_count": null,
   "metadata": {},
   "outputs": [],
   "source": [
    "neighbourhood_vals = listings.neighbourhood.value_counts()\n",
    "(neighbourhood_vals[:10]/listings.shape[0]).plot(kind='bar')\n",
    "plt.title(\"Top 10 Neighborhooods by Listing Count\");"
   ]
  },
  {
   "cell_type": "code",
   "execution_count": null,
   "metadata": {},
   "outputs": [],
   "source": [
    "# Get Average Price by neighbourhood\n",
    "listings.groupby([\"neighbourhood\"])['price'].mean().nlargest(10).plot(kind='bar')\n",
    "plt.title(\"Top 10 Neighborhood by Average Price\");"
   ]
  },
  {
   "cell_type": "code",
   "execution_count": null,
   "metadata": {},
   "outputs": [],
   "source": [
    "# Get Average Price by neighbourhood\n",
    "listings.groupby([\"neighbourhood\"])['price'].mean().nsmallest(10).plot(kind='bar')\n",
    "plt.title(\"10 Least Expensive Rental Neighborhoods by Average Price\");"
   ]
  },
  {
   "cell_type": "code",
   "execution_count": null,
   "metadata": {},
   "outputs": [],
   "source": [
    "#listings.host_neighbourhood.value_counts()\n",
    "print(listings.neighbourhood.value_counts().nlargest(10))\n",
    "# List the top 10 neighborhoods by listing\n",
    "listings.groupby([\"neighbourhood\"])['price'].count().nlargest(10).plot(kind='bar')\n",
    "plt.title(\"Listing Count by Neighborhood\");"
   ]
  },
  {
   "cell_type": "code",
   "execution_count": null,
   "metadata": {},
   "outputs": [],
   "source": [
    "#listings.host_neighbourhood.value_counts()\n",
    "print(listings.neighbourhood.value_counts().nlargest(10))\n",
    "# List the top 10 neighborhoods by listing\n",
    "listings.groupby([\"neighbourhood\"])['price'].count().nlargest(10).plot(kind='bar')\n",
    "plt.title(\"Listing Count by Neighborhood\");"
   ]
  },
  {
   "cell_type": "markdown",
   "metadata": {},
   "source": [
    "## Statistics"
   ]
  },
  {
   "cell_type": "code",
   "execution_count": null,
   "metadata": {},
   "outputs": [],
   "source": [
    "correlations = listings.corr()\n",
    "# plot correlation matrix\n",
    "fig = plt.figure()\n",
    "ax = fig.add_subplot(111)\n",
    "cax = ax.matshow(correlations, vmin=-1, vmax=1)\n",
    "fig.colorbar(cax)\n",
    "plt.show()"
   ]
  },
  {
   "cell_type": "code",
   "execution_count": null,
   "metadata": {},
   "outputs": [],
   "source": [
    "listings.corr()"
   ]
  },
  {
   "cell_type": "code",
   "execution_count": null,
   "metadata": {},
   "outputs": [],
   "source": [
    "listings.info()"
   ]
  },
  {
   "cell_type": "code",
   "execution_count": null,
   "metadata": {},
   "outputs": [],
   "source": [
    "# Continous Variables\n",
    "listings.describe()"
   ]
  },
  {
   "cell_type": "code",
   "execution_count": null,
   "metadata": {},
   "outputs": [],
   "source": [
    "# Scatterplot Matrix\n",
    "#from matplotlib import pyplot as plt\n",
    "#pd.plotting.scatter_matrix(listings[[\"neighbourhood\",\"price\"]])\n",
    "#plt.xticks(rotation=45)\n",
    "#plt.show()\n",
    "\n",
    "#fig, ax = plt.subplots(figsize=(16,8))\n",
    "#ax.scatter(listings['neighbourhood'], listings['price'])\n",
    "#plt.xticks(rotation=45)\n",
    "#plt.show()\n",
    "\n",
    "#float64_df.plot.scatter(x='review_scores_rating', y='price', c='DarkBlue')\n",
    "#listings.plot.scatter(x='neighbourhood', y='price', c='DarkBlue')\n",
    "#float64_df.head(2)"
   ]
  },
  {
   "cell_type": "code",
   "execution_count": null,
   "metadata": {},
   "outputs": [],
   "source": [
    "# pandas.plotting.scatter_matrix\n",
    "pd.plotting.scatter_matrix(listings, alpha=0.2);"
   ]
  },
  {
   "cell_type": "code",
   "execution_count": null,
   "metadata": {},
   "outputs": [],
   "source": [
    "#\n",
    "listings.plot.scatter(x='neighbourhood', y='price', c='DarkBlue');"
   ]
  },
  {
   "cell_type": "code",
   "execution_count": null,
   "metadata": {},
   "outputs": [],
   "source": [
    "# BoxPlot\n",
    "listings.boxplot();"
   ]
  },
  {
   "cell_type": "code",
   "execution_count": null,
   "metadata": {},
   "outputs": [],
   "source": []
  }
 ],
 "metadata": {
  "kernelspec": {
   "display_name": "Python 3",
   "language": "python",
   "name": "python3"
  },
  "language_info": {
   "codemirror_mode": {
    "name": "ipython",
    "version": 3
   },
   "file_extension": ".py",
   "mimetype": "text/x-python",
   "name": "python",
   "nbconvert_exporter": "python",
   "pygments_lexer": "ipython3",
   "version": "3.8.5"
  }
 },
 "nbformat": 4,
 "nbformat_minor": 4
}
